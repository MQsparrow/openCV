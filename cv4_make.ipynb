{
  "nbformat": 4,
  "nbformat_minor": 0,
  "metadata": {
    "colab": {
      "name": "cv4_make.ipynb",
      "provenance": [],
      "authorship_tag": "ABX9TyP0etU0kjbI9Z65TDmXKiHg",
      "include_colab_link": true
    },
    "kernelspec": {
      "name": "python3",
      "display_name": "Python 3"
    },
    "language_info": {
      "name": "python"
    }
  },
  "cells": [
    {
      "cell_type": "markdown",
      "metadata": {
        "id": "view-in-github",
        "colab_type": "text"
      },
      "source": [
        "<a href=\"https://colab.research.google.com/github/MQsparrow/openCV/blob/main/cv4_make.ipynb\" target=\"_parent\"><img src=\"https://colab.research.google.com/assets/colab-badge.svg\" alt=\"Open In Colab\"/></a>"
      ]
    },
    {
      "cell_type": "code",
      "execution_count": 2,
      "metadata": {
        "id": "A469Fqs6OZP0"
      },
      "outputs": [],
      "source": [
        "import cv2\n",
        "import numpy as np\n",
        "import IPython.display as dp\n",
        "from google.colab.patches import cv2_imshow\n",
        "from PIL import ImageFont, ImageDraw, Image\n",
        "import time\n",
        "import codecs\n",
        "import base64\n",
        "\n",
        "#將影片轉檔為base64格式\n",
        "with codecs.open(\"h3.mp4\",\"rb\") as f:\n",
        "  f=base64.b64encode(f.read()).decode()\n",
        "#顯示影片撥放器\n",
        "dp.HTML(\n",
        "  f'<video src=\"data:video/mp4;base64,{f}\" controls />'\n",
        ")\n",
        "\n",
        "p1=cv2.VideoCapture(\"h3.mp4\") # 讀取括號內指定路徑檔案\n",
        "p2=cv2.VideoWriter(\"1.mp4\", cv2.VideoWriter_fourcc(*'MP4V'), 30, (640, 360))\n",
        "while p1.isOpened()==True: # 判斷來源是否讀取成功 有被打開\n",
        "    ret, m1=p1.read() # 是否讀到畫面(布林), 讀到畫面變數 = 控制變數.read\n",
        "    dp.clear_output(True)\n",
        "    if ret==True:\n",
        "        m2=cv2.inRange(m1, (80, 0, 0), (200, 60, 50))\n",
        "        m2=cv2.dilate(m2, np.ones((30, 60)))\n",
        "        a,b=cv2.findContours(m2,cv2.RETR_TREE,cv2.CHAIN_APPROX_NONE)\n",
        "        if len(a) != 0: \n",
        "            x, y, w, h = cv2.boundingRect(a[0])\n",
        "            cv2.rectangle(m1,(x,y),(x+w,y+h),(0, 0, 255),3)\n",
        "        p2.write(m1)\n",
        "    else:\n",
        "        break\n",
        "p2.release()"
      ]
    }
  ]
}