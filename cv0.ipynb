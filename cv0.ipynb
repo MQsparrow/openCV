{
  "nbformat": 4,
  "nbformat_minor": 0,
  "metadata": {
    "colab": {
      "name": "cv0.ipynb",
      "provenance": [],
      "collapsed_sections": [],
      "authorship_tag": "ABX9TyMD9HDdbW8DtemYaZbu15gG",
      "include_colab_link": true
    },
    "kernelspec": {
      "name": "python3",
      "display_name": "Python 3"
    },
    "language_info": {
      "name": "python"
    }
  },
  "cells": [
    {
      "cell_type": "markdown",
      "metadata": {
        "id": "view-in-github",
        "colab_type": "text"
      },
      "source": [
        "<a href=\"https://colab.research.google.com/github/MQsparrow/openCV/blob/main/cv0.ipynb\" target=\"_parent\"><img src=\"https://colab.research.google.com/assets/colab-badge.svg\" alt=\"Open In Colab\"/></a>"
      ]
    },
    {
      "cell_type": "code",
      "execution_count": 26,
      "metadata": {
        "id": "Oslv-bduHHom"
      },
      "outputs": [],
      "source": [
        "#前置確認志業\n",
        "#!pip install opencv-python\n",
        "#!pip install opencv-contrib-python\n",
        "\n",
        "#import需要函式庫\n",
        "import cv2 #openCV 函式庫\n",
        "import numpy as np #矩陣處理+數學運算 函式庫\n",
        "import IPython.display as dp #colab內部控制換面需要\n",
        "from google.colab.patches import cv2_imshow #colab針對openCV額外附加功能(因為環境不同需要)"
      ]
    },
    {
      "cell_type": "code",
      "source": [
        "#讀取與顯示圖片\n",
        "#讀取: 存取變數 = cv2.imread(\"圖片路徑\", 讀取方式)\n",
        "#顯示: cv2_imshow(要輸出圖片存取變數)\n",
        "\n",
        "#0 -> 灰階\n",
        "m1 = cv2.imread(\"1.jpg\", 0) #讀入圖片 存入變數\n",
        "print(m1) #輸出圖片各色塊矩陣數值\n",
        "print(m1.shape) #.shape -> (高, 寬, 彩色數值) <-> (0, 1, 2)\n",
        "cv2_imshow(m1) #印出圖片\n",
        "#1 -> 彩色(無視透明度)\n",
        "m2 = cv2.imread(\"1.jpg\", 1)\n",
        "print(m2)\n",
        "print(m2.shape)\n",
        "cv2_imshow(m2)\n",
        "#-1 -> 完全讀出(包括透明度)\n",
        "m3 = cv2.imread(\"1.jpg\", -1)\n",
        "print(m3)\n",
        "print(m3.shape)\n",
        "cv2_imshow(m3)"
      ],
      "metadata": {
        "id": "3OacJmJxU_9Q"
      },
      "execution_count": null,
      "outputs": []
    },
    {
      "cell_type": "code",
      "source": [
        "#轉換彩色空間類型\n",
        "#轉換後圖像變數 = cv2.cvtColor(圖片變數, 轉換類型)\n",
        "\"\"\"\n",
        "常見轉換類型\n",
        "cv2.COLOR_BGR2HSV\n",
        "cv2.COLOR_BGR2GRAY\n",
        "cv2.COLOR_HSV2BGR\n",
        "cv2.COLOR_GRAY2BGR\n",
        "\"\"\"\n",
        "#origin\n",
        "m2 = cv2.imread(\"1.jpg\", 1)\n",
        "print(m2.shape)\n",
        "cv2_imshow(m2)\n",
        "#cv2.COLOR_BGR2HSV(對數值解讀不同所以畫面顯示不同)\n",
        "m2_0 = cv2.cvtColor(m2, cv2.COLOR_BGR2HSV)\n",
        "print(m2_0.shape)\n",
        "cv2_imshow(m2_0)\n",
        "#cv2.COLOR_BGR2GRAY\n",
        "m2_1 = cv2.cvtColor(m2, cv2.COLOR_BGR2GRAY)\n",
        "print(m2_1.shape)\n",
        "cv2_imshow(m2_1)\n",
        "#cv2.COLOR_HSV2BGR\n",
        "m2_2 = cv2.cvtColor(m2_0, cv2.COLOR_HSV2BGR)\n",
        "print(m2_2.shape)\n",
        "cv2_imshow(m2_2)\n",
        "#cv2.COLOR_GRAY2BGR(僅維度改變 顏色不變)\n",
        "m2_3 = cv2.cvtColor(m2_1, cv2.COLOR_GRAY2BGR)\n",
        "print(m2_3.shape)\n",
        "cv2_imshow(m2_3)"
      ],
      "metadata": {
        "id": "A6G-Uw71VCVW"
      },
      "execution_count": null,
      "outputs": []
    },
    {
      "cell_type": "code",
      "source": [
        "#儲存圖片\n",
        "#cv2.imwrite(\"圖片路徑\", 變數, 設定參數)\n",
        "\"\"\"\n",
        "常見參數\n",
        "png -> 支援透明色(第3為第4個值作為透明值 - 無透明則不顯示)\n",
        "jpg -> 不支援透明色, 但可調整壓縮比例\n",
        "    -> 設定參數: [cv2.IMWRITE_JPEG_QUALITY, 畫質比率(0~100)]\n",
        "    -> ***壓縮的不是大小是像素數(或稱數值) -> 透過摺疊矩陣***\n",
        "\"\"\"\n",
        "m1 = cv2.imread(\"1.jpg\", -1)\n",
        "cv2.imwrite(\"1_0.png\", m1)\n",
        "cv2.imwrite(\"1_0.jpg\", m1, [cv2.IMWRITE_JPEG_QUALITY, 0])\n",
        "cv2.imwrite(\"1_25.jpg\", m1, [cv2.IMWRITE_JPEG_QUALITY, 25])\n",
        "cv2.imwrite(\"1_50.jpg\", m1, [cv2.IMWRITE_JPEG_QUALITY, 50])\n",
        "cv2.imwrite(\"1_75.jpg\", m1, [cv2.IMWRITE_JPEG_QUALITY, 75])\n",
        "cv2.imwrite(\"1_100.jpg\", m1, [cv2.IMWRITE_JPEG_QUALITY, 100])"
      ],
      "metadata": {
        "id": "_50hySvbb5BB"
      },
      "execution_count": null,
      "outputs": []
    },
    {
      "cell_type": "code",
      "source": [
        "#檢查圖片畫質與檔案大小\n",
        "#png 370kb\n",
        "m = cv2.imread(\"1_0.png\", -1)\n",
        "print(m.shape)\n",
        "cv2_imshow\n",
        "#jpg 100%壓縮 6kb\n",
        "m = cv2.imread(\"1_0.jpg\", -1)\n",
        "print(m.shape)\n",
        "cv2_imshow(m)\n",
        "#jpg 75%壓縮 17kb\n",
        "m = cv2.imread(\"1_25.jpg\", -1)\n",
        "print(m.shape)\n",
        "cv2_imshow(m)\n",
        "#jpg 50%壓縮 25kb\n",
        "m = cv2.imread(\"1_50.jpg\", -1)\n",
        "print(m.shape)\n",
        "cv2_imshow(m)\n",
        "#jpg 25%壓縮 37kb\n",
        "m = cv2.imread(\"1_75.jpg\", -1)\n",
        "print(m.shape)\n",
        "cv2_imshow(m)\n",
        "#jpg 0%壓縮 155kb\n",
        "m = cv2.imread(\"1_100.jpg\", -1)\n",
        "print(m.shape)\n",
        "cv2_imshow(m)"
      ],
      "metadata": {
        "id": "AchCYi_xdsJP"
      },
      "execution_count": null,
      "outputs": []
    }
  ]
}