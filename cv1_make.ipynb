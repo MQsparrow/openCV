{
  "nbformat": 4,
  "nbformat_minor": 0,
  "metadata": {
    "colab": {
      "name": "cv1_make.ipynb",
      "provenance": [],
      "authorship_tag": "ABX9TyMzOV4jViPkDHZkmxWXyPrd",
      "include_colab_link": true
    },
    "kernelspec": {
      "name": "python3",
      "display_name": "Python 3"
    },
    "language_info": {
      "name": "python"
    }
  },
  "cells": [
    {
      "cell_type": "markdown",
      "metadata": {
        "id": "view-in-github",
        "colab_type": "text"
      },
      "source": [
        "<a href=\"https://colab.research.google.com/github/MQsparrow/openCV/blob/main/cv1_make.ipynb\" target=\"_parent\"><img src=\"https://colab.research.google.com/assets/colab-badge.svg\" alt=\"Open In Colab\"/></a>"
      ]
    },
    {
      "cell_type": "code",
      "execution_count": null,
      "metadata": {
        "colab": {
          "base_uri": "https://localhost:8080/",
          "height": 167
        },
        "id": "vSo6CIDD4Pqy",
        "outputId": "e0fc7de1-a1c4-4f32-d552-3b62bf6c222b"
      },
      "outputs": [
        {
          "output_type": "display_data",
          "data": {
            "text/plain": [
              "<PIL.Image.Image image mode=RGB size=300x150 at 0x7F7B293DD210>"
            ],
            "image/png": "[encoded data removed]"
          },
          "metadata": {}
        }
      ],
      "source": [
        "import cv2\n",
        "import numpy as np\n",
        "import IPython.display as dp\n",
        "from google.colab.patches import cv2_imshow\n",
        "from PIL import ImageFont, ImageDraw, Image\n",
        "import time\n",
        "\n",
        "while True:\n",
        "    for x in range(0,251,1):\n",
        "        m1=np.full((150,300,3), (0,0,0), np.uint8)\n",
        "        cv2.rectangle(m1, (x, 50), (x+50, 100), (255, 0, 0), -1)\n",
        "        dp.clear_output(True)\n",
        "        cv2_imshow(m1)\n",
        "        time.sleep(0.01)\n",
        "\n",
        "    for x in range(0,250,1):\n",
        "        m1=np.full((150,300,3), (0,0,0), np.uint8)\n",
        "        cv2.rectangle(m1, (250-x, 50), (300-x, 100), (255, 0, 0), -1)\n",
        "        dp.clear_output(True)\n",
        "        cv2_imshow(m1)\n",
        "        time.sleep(0.01)"
      ]
    }
  ]
}